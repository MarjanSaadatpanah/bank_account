{
 "cells": [
  {
   "cell_type": "code",
   "execution_count": 1,
   "metadata": {},
   "outputs": [],
   "source": [
    "# Bank Account(with all activities)\n",
    "\n",
    "##4)\n",
    "class BalanceException(Exception):\n",
    "  pass                                                                          # this class will not do any thing just I want to have a seperate calss for it that inherite from 'Exception' class that Python created\n",
    "\n",
    "\n",
    "##1)\n",
    "class BankAccount:\n",
    "  def __init__(self, initialAmount, actName):                                   # use 'constructor' as an object to define which activities would you like to perform/do your class\n",
    "    self.balance= initialAmount                                                 # put all given inputs(initialAmount, actName) into the class's attributes(self.balance, actName). 'self.balance' is an attribute that show how much money do I have\n",
    "    self.name = actName\n",
    "    print(f'\\nAccount {self.name} created. Balance: {self.balance:.2f}$')       # I would like to have a message for client to tell her/him: the account is created.\n",
    "\n",
    "\n",
    "##2)\n",
    "  def getBalance(self):                                                         # I created a method'getBalance' to see the balance of the account\n",
    "    print(f'\\nAccount {self.name}. Balance: {self.balance:.2f}')\n",
    "\n",
    "\n",
    "##3)\n",
    "  def deposit(self, amount):                                                    # I would like to have a deposit activity for my account. so it will get amount and subtract it to the account\n",
    "    self.balance += amount\n",
    "    print(f'\\nDeposit completed.')\n",
    "    self.getBalance()                                                           # I want to avoid repeat again. so I use the method that I previously wrote.\n",
    "\n",
    "\n",
    "##4)\n",
    "  def checkTransaction(self,amount):                                            # I want to make this method to check whether the input amount is less than the balance? and I make this method because I want to use it in my transfer activity as well.\n",
    "    if self.balance >= amount:\n",
    "      return                                                                    # if the condotion was True, please return to the first plavce that you were\n",
    "    else:                                                                       # if the condition wasn't True, send an error message with 'Exception' class that I made it in the class named \"BalanceException\" in above and this class will inherit from 'Exception' class.\n",
    "      raise BalanceException(f'\\nSorry, Account {self.name} only has {self.balance:.2f}$')\n",
    "\n",
    "\n",
    "\n",
    "  def withdraw(self,amount):                                                    # I would like to withdraw from my account. so it will deduct amount from the account\n",
    "    try:                                                                        # 'try exception' is a way to avoid/handdle potential error raising once the 'CheckTransaction' method ran.\n",
    "      self.checkTransaction(amount)                                             # to have an access to the method, use 'self.name of method(how much we can withdraw the account)'. if the condition was True, perform the orders and write:\n",
    "      self.balance -= amount                                                    #a)should deduct the amount of withdraw from the account\n",
    "      print(f'\\nWithdraw completed.')                                           #b)\n",
    "      self.getBalance()                                                         #c)\n",
    "    except BalanceException as error:                                           # but if the condition wasn't True, put an a message in an 'error' variable of 'BalanceException' class that I created and:\n",
    "      print(f'\\nWithdraw is intrrupted: {error}')                               # show the message and the error that is in the 'error' variable\n",
    "\n",
    "\n",
    "##5)\n",
    "  def transfer (self, amount,accName):                                          # I want transfer amount of money to other account,so the attribute 'name' is the other account name that I want to transfer money into it.\n",
    "    try:                                                                        # again because of handeling error, I use 'try:'\n",
    "      print(f'\\n******** Transfer is started')\n",
    "      self.checkTransaction(amount)                                             # to assess having enough money, I will call 'chackTransaction' method\n",
    "      self.withdraw(amount)\n",
    "      accName.deposit(amount)                                                   # 'accName'.method(attribute) : instead of 'self' because if I used 'self' again I transfer the amount to the account that I withraw from. self means itself, but I have to use object 'accName' to define: transfer this amount to the others account\n",
    "      print(f'\\n******** Transfer is compeleted')\n",
    "      self.getBalance\n",
    "    except BalanceException as error:\n",
    "      print(f'\\nTransfer is intrrupted: {error}')\n",
    "\n",
    "\n",
    "##6)\n",
    "class InterestRewardAccount (BankAccount):                                      # make another class to have another account with the feature of adding 5% Interest for each deposit.this 'class' inherite from BankAccount' class, because I want to have all methods of 'BankAccount' class with a little changes.\n",
    "  def deposit(self,amount):                                                     # I want to have 'deposit' method of 'BankAccount' with some changes:\n",
    "    self.balance += (amount * 1.05)                                             # this change is: add the amount to the account and add 5% as well\n",
    "    print('\\nDeposit is compeleted.')\n",
    "    self.getBalance()\n",
    "\n",
    "\n",
    "##7)\n",
    "class SavingAccount (InterestRewardAccount):                                    # I want to deduct 5% from the amount once we had a transferring\n",
    "  def __init__(self, initalAmount, actName):                                    # I have to create a constructor because I want to deduct '5$' from each transaction\n",
    "    super().__init__(initalAmount, actName)                                     # Because I don't want to duplicate my constructor, I just call it from 'BankAccount' class, '__init__' method\n",
    "    self.fee = 5                                                                # 5$ is the free of each transaction\n",
    "\n",
    "  def transfer(self,amount,accName):                                            # I need 'transfer' method so recall it\n",
    "    try:\n",
    "      print(f'\\n******** Transfer is started')\n",
    "      self.checkTransaction(amount + self.fee)\n",
    "      self.withdraw(amount + self.fee)\n",
    "      accName.deposit(amount)\n",
    "      print(f'\\nTransfer is compeleted')\n",
    "      print(f'\\n******** Transfer is compeleted')\n",
    "    except BalanceException as error:\n",
    "      print(f'\\nTransfer is intrrupted: {error}')\n",
    "\n",
    "\n",
    "    # return super().withdraw(amount)                                           # this part of code is used when you want to call method 'withdraw' exactly"
   ]
  },
  {
   "cell_type": "code",
   "execution_count": 2,
   "metadata": {},
   "outputs": [
    {
     "name": "stdout",
     "output_type": "stream",
     "text": [
      "\n",
      "Account Ali created. Balance: 1000.00$\n",
      "\n",
      "Account Sara created. Balance: 1500.00$\n"
     ]
    }
   ],
   "source": [
    "##1)\n",
    "Ali = BankAccount(1000,'Ali')                                                   # I want to make a 'sample' from the class 'BankAccount' and put it in an object'Ali'\n",
    "Sara = BankAccount(1500, 'Sara')"
   ]
  },
  {
   "cell_type": "code",
   "execution_count": 3,
   "metadata": {},
   "outputs": [
    {
     "name": "stdout",
     "output_type": "stream",
     "text": [
      "\n",
      "Account Ali. Balance: 1000.00\n",
      "\n",
      "Account Sara. Balance: 1500.00\n"
     ]
    }
   ],
   "source": [
    "##2)\n",
    "Ali.getBalance()                                                                # call 'getBalance' method\n",
    "Sara.getBalance()"
   ]
  },
  {
   "cell_type": "code",
   "execution_count": 4,
   "metadata": {},
   "outputs": [
    {
     "name": "stdout",
     "output_type": "stream",
     "text": [
      "\n",
      "Deposit completed.\n",
      "\n",
      "Account Ali. Balance: 1500.00\n"
     ]
    }
   ],
   "source": [
    "##3)\n",
    "Ali.deposit(500)                                                                # call 'deposit' method. for example 'Ali' deposited 500$ in his account"
   ]
  },
  {
   "cell_type": "code",
   "execution_count": 5,
   "metadata": {},
   "outputs": [
    {
     "name": "stdout",
     "output_type": "stream",
     "text": [
      "\n",
      "Withdraw is intrrupted: \n",
      "Sorry, Account Ali only has 1500.00$\n",
      "\n",
      "Withdraw completed.\n",
      "\n",
      "Account Ali. Balance: 1400.00\n"
     ]
    }
   ],
   "source": [
    "##4)\n",
    "Ali.withdraw(10000)\n",
    "Ali.withdraw(100)                                                               # because of good handdeling, the project is not stoped and you can have another order."
   ]
  },
  {
   "cell_type": "code",
   "execution_count": 6,
   "metadata": {},
   "outputs": [
    {
     "name": "stdout",
     "output_type": "stream",
     "text": [
      "\n",
      "******** Transfer is started\n",
      "\n",
      "Withdraw completed.\n",
      "\n",
      "Account Ali. Balance: 900.00\n",
      "\n",
      "Deposit completed.\n",
      "\n",
      "Account Sara. Balance: 2000.00\n",
      "\n",
      "******** Transfer is compeleted\n"
     ]
    }
   ],
   "source": [
    "##5)\n",
    "Ali.transfer(500, Sara)                                                         # transfer 500$ from Ali to Sara"
   ]
  },
  {
   "cell_type": "code",
   "execution_count": 7,
   "metadata": {},
   "outputs": [
    {
     "name": "stdout",
     "output_type": "stream",
     "text": [
      "\n",
      "Account Mina created. Balance: 1000.00$\n",
      "\n",
      "Account Mina. Balance: 1000.00\n",
      "\n",
      "Deposit is compeleted.\n",
      "\n",
      "Account Mina. Balance: 1105.00\n"
     ]
    }
   ],
   "source": [
    "##6)\n",
    "Mina = InterestRewardAccount(1000, 'Mina')                                      # made a new sample of 'InterestRewardAccount' class\n",
    "Mina.getBalance()\n",
    "Mina.deposit(100)"
   ]
  },
  {
   "cell_type": "code",
   "execution_count": 8,
   "metadata": {},
   "outputs": [
    {
     "name": "stdout",
     "output_type": "stream",
     "text": [
      "\n",
      "Account Kian created. Balance: 1000.00$\n",
      "\n",
      "******** Transfer is started\n",
      "\n",
      "Transfer is intrrupted: \n",
      "Sorry, Account Kian only has 1000.00$\n",
      "\n",
      "******** Transfer is started\n",
      "\n",
      "Withdraw completed.\n",
      "\n",
      "Account Kian. Balance: 895.00\n",
      "\n",
      "Deposit completed.\n",
      "\n",
      "Account Ali. Balance: 1000.00\n",
      "\n",
      "Transfer is compeleted\n",
      "\n",
      "******** Transfer is compeleted\n"
     ]
    }
   ],
   "source": [
    "##7)\n",
    "Kian = SavingAccount(1000,'Kian')\n",
    "Kian.transfer(1000, Ali)\n",
    "Kian.transfer(100, Ali)"
   ]
  }
 ],
 "metadata": {
  "kernelspec": {
   "display_name": "Python 3",
   "language": "python",
   "name": "python3"
  },
  "language_info": {
   "codemirror_mode": {
    "name": "ipython",
    "version": 3
   },
   "file_extension": ".py",
   "mimetype": "text/x-python",
   "name": "python",
   "nbconvert_exporter": "python",
   "pygments_lexer": "ipython3",
   "version": "3.12.1"
  }
 },
 "nbformat": 4,
 "nbformat_minor": 2
}
